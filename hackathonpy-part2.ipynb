{
 "cells": [
  {
   "cell_type": "code",
   "execution_count": 18,
   "id": "5fc35754",
   "metadata": {},
   "outputs": [],
   "source": [
    "import pandas as pd"
   ]
  },
  {
   "cell_type": "code",
   "execution_count": 19,
   "id": "977aa5c6",
   "metadata": {},
   "outputs": [],
   "source": [
    "# Load data\n",
    "df_features = pd.read_csv('training_set_features.csv')\n",
    "df_labels = pd.read_csv('training_set_labels.csv')\n",
    "\n",
    "# Merge dataframes on respondent_id\n",
    "df = pd.merge(df_features, df_labels, on='respondent_id')\n",
    "\n",
    "# Drop respondent_id as it's not a feature\n",
    "df.drop(columns=['respondent_id'], inplace=True)\n"
   ]
  },
  {
   "cell_type": "code",
   "execution_count": 20,
   "id": "f6d95403",
   "metadata": {},
   "outputs": [],
   "source": [
    "# Separate features and targets\n",
    "target_variables = ['xyz_vaccine', 'seasonal_vaccine']\n",
    "X = df.drop(columns=target_variables)\n",
    "y = df[target_variables]"
   ]
  },
  {
   "cell_type": "code",
   "execution_count": null,
   "id": "7fe05d7f",
   "metadata": {},
   "outputs": [],
   "source": []
  },
  {
   "cell_type": "code",
   "execution_count": 21,
   "id": "91010084",
   "metadata": {},
   "outputs": [],
   "source": [
    "from sklearn.model_selection import train_test_split\n",
    "\n",
    "X_train, X_test, y_train, y_test = train_test_split(X, y, test_size=0.25, random_state=48)"
   ]
  },
  {
   "cell_type": "code",
   "execution_count": null,
   "id": "a69b50f4",
   "metadata": {},
   "outputs": [],
   "source": []
  },
  {
   "cell_type": "code",
   "execution_count": 22,
   "id": "356009a6",
   "metadata": {},
   "outputs": [],
   "source": [
    "# Define preprocessing for numerical and categorical data\n",
    "numerical_features = X.select_dtypes(include=['int64', 'float64']).columns\n",
    "categorical_features = X.select_dtypes(include=['object']).columns\n"
   ]
  },
  {
   "cell_type": "code",
   "execution_count": 23,
   "id": "eee71bce",
   "metadata": {},
   "outputs": [],
   "source": [
    "from sklearn.preprocessing import StandardScaler, OneHotEncoder\n",
    "from sklearn.impute import SimpleImputer\n",
    "from sklearn.compose import ColumnTransformer\n",
    "from sklearn.pipeline import Pipeline\n",
    "from sklearn.multioutput import MultiOutputClassifier"
   ]
  },
  {
   "cell_type": "code",
   "execution_count": 24,
   "id": "b866667f",
   "metadata": {},
   "outputs": [],
   "source": [
    "\n",
    "numerical_transformer = Pipeline(steps=[\n",
    "    ('imputer', SimpleImputer(strategy='median')),\n",
    "    ('scaler', StandardScaler())\n",
    "])\n",
    "\n",
    "categorical_transformer = Pipeline(steps=[\n",
    "    ('imputer', SimpleImputer(strategy='most_frequent')),\n",
    "    ('onehot', OneHotEncoder(handle_unknown='ignore'))\n",
    "])\n",
    "\n",
    "preprocessor = ColumnTransformer(\n",
    "    transformers=[\n",
    "        ('num', numerical_transformer, numerical_features),\n",
    "        ('cat', categorical_transformer, categorical_features)\n",
    "    ])\n"
   ]
  },
  {
   "cell_type": "code",
   "execution_count": 25,
   "id": "06c53acf",
   "metadata": {},
   "outputs": [],
   "source": [
    "from sklearn.linear_model import LogisticRegression\n",
    "from sklearn.multioutput import MultiOutputClassifier\n",
    "from sklearn.ensemble import RandomForestClassifier\n",
    "from xgboost import XGBClassifier\n",
    "from sklearn.metrics import roc_auc_score\n"
   ]
  },
  {
   "cell_type": "code",
   "execution_count": 26,
   "id": "0b64c30e",
   "metadata": {},
   "outputs": [],
   "source": [
    "\n",
    "# List of models to evaluate\n",
    "models = {\n",
    "    'Logistic Regression': MultiOutputClassifier(LogisticRegression(max_iter=1000)),\n",
    "    'Random Forest': MultiOutputClassifier(RandomForestClassifier(n_estimators=100, random_state=48)),\n",
    "    'XGBoost': MultiOutputClassifier(XGBClassifier(use_label_encoder=False, eval_metric='logloss'))\n",
    "}"
   ]
  },
  {
   "cell_type": "code",
   "execution_count": 27,
   "id": "22ce9e30",
   "metadata": {},
   "outputs": [
    {
     "name": "stdout",
     "output_type": "stream",
     "text": [
      "Logistic Regression Mean ROC AUC: 0.8459\n",
      "Random Forest Mean ROC AUC: 0.8410\n",
      "XGBoost Mean ROC AUC: 0.8387\n"
     ]
    }
   ],
   "source": [
    "\n",
    "# Train and evaluate each model\n",
    "results = {}\n",
    "for name, model in models.items():\n",
    "    pipeline = Pipeline(steps=[\n",
    "        ('preprocessor', preprocessor),\n",
    "        ('classifier', model)\n",
    "    ])\n",
    "    \n",
    "    # Train the model\n",
    "    pipeline.fit(X_train, y_train)\n",
    "    \n",
    "    # Predict probabilities for the test set\n",
    "    y_pred_proba = pipeline.predict_proba(X_test)\n",
    "    \n",
    "    # Extract probabilities for each target variable\n",
    "    y_pred_proba_xyz = y_pred_proba[0][:, 1]\n",
    "    y_pred_proba_seasonal = y_pred_proba[1][:, 1]\n",
    "    \n",
    "    # Evaluate the model\n",
    "    roc_auc_xyz = roc_auc_score(y_test['xyz_vaccine'], y_pred_proba_xyz)\n",
    "    roc_auc_seasonal = roc_auc_score(y_test['seasonal_vaccine'], y_pred_proba_seasonal)\n",
    "    mean_roc_auc = (roc_auc_xyz + roc_auc_seasonal) / 2\n",
    "    \n",
    "    results[name] = mean_roc_auc\n",
    "    print(f'{name} Mean ROC AUC: {mean_roc_auc:.4f}')\n"
   ]
  },
  {
   "cell_type": "code",
   "execution_count": 28,
   "id": "1c9b3000",
   "metadata": {},
   "outputs": [
    {
     "data": {
      "text/plain": [
       "Pipeline(steps=[('preprocessor',\n",
       "                 ColumnTransformer(transformers=[('num',\n",
       "                                                  Pipeline(steps=[('imputer',\n",
       "                                                                   SimpleImputer(strategy='median')),\n",
       "                                                                  ('scaler',\n",
       "                                                                   StandardScaler())]),\n",
       "                                                  Index(['xyz_concern', 'xyz_knowledge', 'behavioral_antiviral_meds',\n",
       "       'behavioral_avoidance', 'behavioral_face_mask', 'behavioral_wash_hands',\n",
       "       'behavioral_large_gatherings', 'behavioral_outside_hom...\n",
       "                                                                   SimpleImputer(strategy='most_frequent')),\n",
       "                                                                  ('onehot',\n",
       "                                                                   OneHotEncoder(handle_unknown='ignore'))]),\n",
       "                                                  Index(['age_group', 'education', 'race', 'sex', 'income_poverty',\n",
       "       'marital_status', 'rent_or_own', 'employment_status', 'hhs_geo_region',\n",
       "       'census_msa', 'employment_industry', 'employment_occupation'],\n",
       "      dtype='object'))])),\n",
       "                ('classifier',\n",
       "                 MultiOutputClassifier(estimator=LogisticRegression(max_iter=1000)))])"
      ]
     },
     "execution_count": 28,
     "metadata": {},
     "output_type": "execute_result"
    }
   ],
   "source": [
    "# Prepare submission file with the best model\n",
    "best_model_name = max(results, key=results.get)\n",
    "best_model = models[best_model_name]\n",
    "best_pipeline = Pipeline(steps=[\n",
    "    ('preprocessor', preprocessor),\n",
    "    ('classifier', best_model)\n",
    "])\n",
    "\n",
    "# Train the best model on the entire dataset\n",
    "best_pipeline.fit(X, y)"
   ]
  },
  {
   "cell_type": "code",
   "execution_count": 29,
   "id": "de06cbb3",
   "metadata": {},
   "outputs": [],
   "source": [
    "\n",
    "# Predict probabilities for the submission\n",
    "submission = pd.DataFrame({\n",
    "    'respondent_id': df_features['respondent_id'],\n",
    "    'xyz_vaccine': best_pipeline.predict_proba(df_features)[0][:, 1],\n",
    "    'seasonal_vaccine': best_pipeline.predict_proba(df_features)[1][:, 1]\n",
    "})"
   ]
  },
  {
   "cell_type": "code",
   "execution_count": 30,
   "id": "edcf712c",
   "metadata": {},
   "outputs": [
    {
     "name": "stdout",
     "output_type": "stream",
     "text": [
      "Best model: Logistic Regression\n"
     ]
    }
   ],
   "source": [
    "submission.to_csv('submission.csv', index=False)\n",
    "print(f'Best model: {best_model_name}')"
   ]
  }
 ],
 "metadata": {
  "kernelspec": {
   "display_name": "Python 3 (ipykernel)",
   "language": "python",
   "name": "python3"
  },
  "language_info": {
   "codemirror_mode": {
    "name": "ipython",
    "version": 3
   },
   "file_extension": ".py",
   "mimetype": "text/x-python",
   "name": "python",
   "nbconvert_exporter": "python",
   "pygments_lexer": "ipython3",
   "version": "3.9.13"
  }
 },
 "nbformat": 4,
 "nbformat_minor": 5
}
